{
 "cells": [
  {
   "cell_type": "code",
   "execution_count": 23,
   "metadata": {},
   "outputs": [],
   "source": [
    "import json\n",
    "import yaml\n",
    "import os.path as op\n",
    "from yaml.loader import SafeLoader"
   ]
  },
  {
   "cell_type": "code",
   "execution_count": 6,
   "metadata": {},
   "outputs": [],
   "source": [
    "def read_yaml(path_to_config_file):\n",
    "    \"\"\"\n",
    "    Input:\n",
    "    the path to the config file\n",
    "\n",
    "    Returns\n",
    "    a dictionary that contains all the config info\n",
    "\n",
    "    \"\"\"\n",
    "    with open(path_to_config_file, \"r\") as v:\n",
    "        config = yaml.load(v, Loader=SafeLoader)\n",
    "\n",
    "    \"\"\"     container = config[\"general\"][\"container\"]\n",
    "        host = config[\"general\"][\"host\"]\n",
    "        njobs = config[\"host_options\"][host][\"njobs\"]\n",
    "        if njobs == \"\" or njobs is None:\n",
    "            njobs = 2\n",
    "        host_str = f\"{host}\"\n",
    "        if host == \"local\":\n",
    "            launch_mode = config[\"host_options\"][\"local\"][\"launch_mode\"]\n",
    "            valid_options = [\"serial\", \"parallel\",\"dask_worker\"]\n",
    "            if launch_mode in valid_options:\n",
    "                host_str = (\n",
    "                    f\"{host_str}, and commands will be launched in {launch_mode} mode \"\n",
    "                    f\"every {njobs} jobs. \"\n",
    "                    f\"Serial is safe but it will take longer. \"\n",
    "                    f\"If you launch in parallel be aware that some of the \"\n",
    "                    f\"processes might be killed if the limit (usually memory) \"\n",
    "                    f\"of the machine is reached. \"\n",
    "                )\n",
    "            else:\n",
    "                die(\n",
    "                    f\"local:launch_mode {launch_mode} was passed, valid options are {valid_options}\"\n",
    "                )\n",
    "\n",
    "        logger.warning(\n",
    "            \"\\n\"\n",
    "            + \"#####################################################\\n\"\n",
    "            + f\"Successfully read the config file {path_to_config_file} \\n\"\n",
    "            + f'Basedir is: {config[\"general\"][\"basedir\"]} \\n'\n",
    "            + f'Container is: {container}_{config[\"container_specific\"][container][\"version\"]} \\n'\n",
    "            + f\"Host is: {host_str} \\n\"\n",
    "            + f'analysis folder is: {config[\"general\"][\"analysis_name\"]} \\n'\n",
    "            + f\"##################################################### \\n\"\n",
    "        )\n",
    "    \"\"\"\n",
    "    return config"
   ]
  },
  {
   "cell_type": "code",
   "execution_count": 8,
   "metadata": {},
   "outputs": [],
   "source": [
    "lc_config=read_yaml('/Users/tiger/soft/launchcontainers/example_configs/0.3.0/example_config.yaml')\n",
    "container=\"freesurferator\""
   ]
  },
  {
   "cell_type": "code",
   "execution_count": 31,
   "metadata": {},
   "outputs": [],
   "source": [
    "yaml_info=lc_config[\"container_specific\"][container]\n",
    "fs_json_keys=['pre_fs','control_points','annotfile', 'mniroizip']\n",
    "fs_json_val=['pre_fs/existingFS.zip','control_points/control.dat','mniroizip/mniroizip.zip','annotfile/annotfile.zip']\n",
    "\n",
    "fs_json_dict= {key: value for key, value in zip(fs_json_keys, fs_json_val)}\n",
    "json_template={'anat': \n",
    "                    {'location': {\n",
    "                        'path': '/flywheel/v0/input/anat/T1.nii.gz', \n",
    "                        'name': 'T1.nii.gz',\n",
    "                     },\n",
    "                    'base': 'file'}\n",
    "                    }"
   ]
  },
  {
   "cell_type": "code",
   "execution_count": 36,
   "metadata": {},
   "outputs": [],
   "source": [
    "for key in fs_json_dict.keys():\n",
    "    if key in yaml_info.keys() and yaml_info[key]:\n",
    "        json_template[key] = {\n",
    "                'location': {\n",
    "                    'path': op.join('/flywheel/v0/input', fs_json_dict[key]), \n",
    "                    'name': op.basename(fs_json_dict[key])\n",
    "                },\n",
    "                'base': 'file'\n",
    "            }\n",
    "    if 'anat' in json_template.keys() and 'pre_fs' in json_template.keys():\n",
    "        json_template.pop('anat')"
   ]
  },
  {
   "cell_type": "code",
   "execution_count": 37,
   "metadata": {},
   "outputs": [
    {
     "data": {
      "text/plain": [
       "{'pre_fs': {'location': {'path': '/flywheel/v0/input/pre_fs/existingFS.zip',\n",
       "   'name': 'existingFS.zip'},\n",
       "  'base': 'file'},\n",
       " 'control_points': {'location': {'path': '/flywheel/v0/input/control_points/control.dat',\n",
       "   'name': 'control.dat'},\n",
       "  'base': 'file'}}"
      ]
     },
     "execution_count": 37,
     "metadata": {},
     "output_type": "execute_result"
    }
   ],
   "source": [
    "json_template"
   ]
  },
  {
   "cell_type": "code",
   "execution_count": 17,
   "metadata": {},
   "outputs": [
    {
     "data": {
      "text/plain": [
       "{'pre_fs_True': 'pre_fs/existingFS.zip',\n",
       " 'pre_fs_False': 'anat/T1.nii.gz',\n",
       " 'control_points': 'control_points/control.dat',\n",
       " 'annotfile': 'mniroizip/mniroizip.zip',\n",
       " 'mniroizip': 'annotfile/annotfile.zip'}"
      ]
     },
     "execution_count": 17,
     "metadata": {},
     "output_type": "execute_result"
    }
   ],
   "source": [
    "fs_json_dict"
   ]
  },
  {
   "cell_type": "code",
   "execution_count": 20,
   "metadata": {},
   "outputs": [
    {
     "data": {
      "text/plain": [
       "dict_keys(['pre_fs_True', 'pre_fs_False', 'control_points', 'annotfile', 'mniroizip'])"
      ]
     },
     "execution_count": 20,
     "metadata": {},
     "output_type": "execute_result"
    }
   ],
   "source": [
    "fs_json_dict.keys()"
   ]
  },
  {
   "cell_type": "code",
   "execution_count": 22,
   "metadata": {},
   "outputs": [
    {
     "data": {
      "text/plain": [
       "dict_keys(['version', 'pre_fs', 'control_points', 'source_path_fszip', 'precontainer_anat', 'anat_analysis_name', 'precontainer_fmriprep', 'fmriprep_analysis_name', 'prefs_zipname', 'prefs_unzipname', 'annotfile', 'mniroizip'])"
      ]
     },
     "execution_count": 22,
     "metadata": {},
     "output_type": "execute_result"
    }
   ],
   "source": [
    "yaml_info.keys()"
   ]
  },
  {
   "cell_type": "code",
   "execution_count": 40,
   "metadata": {},
   "outputs": [],
   "source": [
    "preproc_json_keys=['ANAT','BVAL','BVEC', 'DIFF','FSMASK']\n",
    "preproc_json_val=['ANAT/T1.nii.gz','BVAL/dwiF.bval','BVEC/dwiF.bvec','DIFF/dwiF.nii.gz','FSMASK/brainmask.nii.gz']\n"
   ]
  },
  {
   "cell_type": "code",
   "execution_count": 59,
   "metadata": {},
   "outputs": [],
   "source": [
    "container=\"rtp2-pipeline\"\n",
    "pipeline_json_keys=['anatomical','bval','bvec', 'dwi','fs','tractparams']\n",
    "pipeline_json_val=['anatomical/T1.nii.gz','bval/dwi.bval','bvec/dwi.bvec','dwi/dwi.nii.gz','fs/fs.zip','tractparams/tractparams.csv']\n"
   ]
  },
  {
   "cell_type": "code",
   "execution_count": 65,
   "metadata": {},
   "outputs": [],
   "source": [
    "def get_config_dict(container,lc_config,rtp2_json_keys,rtp2_json_val):\n",
    "    config_info_dict = {}\n",
    "    yaml_info=lc_config[\"container_specific\"][container]\n",
    "    \n",
    "    rtp2_json_dict= {key: value for key, value in zip(rtp2_json_keys, rtp2_json_val)}\n",
    "\n",
    "    \n",
    "    if container == \"freesurferator\":\n",
    "        config_json_extra={'anat': \n",
    "                    {'location': {\n",
    "                        'path': '/flywheel/v0/input/anat/T1.nii.gz', \n",
    "                        'name': 'T1.nii.gz',\n",
    "                    },\n",
    "                    'base': 'file'}\n",
    "                    }\n",
    "        for key in rtp2_json_dict.keys():\n",
    "            if key in yaml_info.keys() and yaml_info[key]:\n",
    "                config_json_extra[key] = {\n",
    "                        'location': {\n",
    "                            'path': op.join('/flywheel/v0/input', rtp2_json_dict[key]), \n",
    "                            'name': op.basename(rtp2_json_dict[key])\n",
    "                        },\n",
    "                        'base': 'file'\n",
    "                    }\n",
    "            if 'anat' in config_json_extra.keys() and 'pre_fs' in config_json_extra.keys():\n",
    "                config_json_extra.pop('anat')\n",
    "\n",
    "    else:\n",
    "        config_json_extra={}\n",
    "        for key in rtp2_json_dict.keys():\n",
    "            config_json_extra[key] = {\n",
    "                    'location': {\n",
    "                        'path': op.join('/flywheel/v0/input', rtp2_json_dict[key]), \n",
    "                        'name': op.basename(rtp2_json_dict[key])\n",
    "                    },\n",
    "                    'base': 'file'\n",
    "                }\n",
    "        \n",
    "    config_info_dict['input']= config_json_extra   \n",
    "    return config_info_dict"
   ]
  },
  {
   "cell_type": "code",
   "execution_count": 66,
   "metadata": {},
   "outputs": [],
   "source": [
    "config_info_dict=get_config_dict(container,lc_config,pipeline_json_keys,pipeline_json_val)"
   ]
  },
  {
   "cell_type": "code",
   "execution_count": 67,
   "metadata": {},
   "outputs": [
    {
     "data": {
      "text/plain": [
       "{'input': {'anatomical': {'location': {'path': '/flywheel/v0/input/anatomical/T1.nii.gz',\n",
       "    'name': 'T1.nii.gz'},\n",
       "   'base': 'file'},\n",
       "  'bval': {'location': {'path': '/flywheel/v0/input/bval/dwi.bval',\n",
       "    'name': 'dwi.bval'},\n",
       "   'base': 'file'},\n",
       "  'bvec': {'location': {'path': '/flywheel/v0/input/bvec/dwi.bvec',\n",
       "    'name': 'dwi.bvec'},\n",
       "   'base': 'file'},\n",
       "  'dwi': {'location': {'path': '/flywheel/v0/input/dwi/dwi.nii.gz',\n",
       "    'name': 'dwi.nii.gz'},\n",
       "   'base': 'file'},\n",
       "  'fs': {'location': {'path': '/flywheel/v0/input/fs/fs.zip',\n",
       "    'name': 'fs.zip'},\n",
       "   'base': 'file'},\n",
       "  'tractparams': {'location': {'path': '/flywheel/v0/input/tractparams/tractparams.csv',\n",
       "    'name': 'tractparams.csv'},\n",
       "   'base': 'file'}}}"
      ]
     },
     "execution_count": 67,
     "metadata": {},
     "output_type": "execute_result"
    }
   ],
   "source": [
    "config_info_dict"
   ]
  },
  {
   "cell_type": "code",
   "execution_count": 71,
   "metadata": {},
   "outputs": [
    {
     "ename": "KeyError",
     "evalue": "'cc'",
     "output_type": "error",
     "traceback": [
      "\u001b[0;31m---------------------------------------------------------------------------\u001b[0m",
      "\u001b[0;31mKeyError\u001b[0m                                  Traceback (most recent call last)",
      "Cell \u001b[0;32mIn[71], line 1\u001b[0m\n\u001b[0;32m----> 1\u001b[0m \u001b[43mconfig_info_dict\u001b[49m\u001b[43m[\u001b[49m\u001b[38;5;124;43m'\u001b[39;49m\u001b[38;5;124;43mcc\u001b[39;49m\u001b[38;5;124;43m'\u001b[39;49m\u001b[43m]\u001b[49m\n",
      "\u001b[0;31mKeyError\u001b[0m: 'cc'"
     ]
    }
   ],
   "source": [
    "config_info_dict['cc']"
   ]
  },
  {
   "cell_type": "code",
   "execution_count": 74,
   "metadata": {},
   "outputs": [
    {
     "name": "stdout",
     "output_type": "stream",
     "text": [
      "in\n"
     ]
    }
   ],
   "source": [
    "if \"input\" in config_info_dict:\n",
    "    print(\"in\")"
   ]
  },
  {
   "cell_type": "code",
   "execution_count": null,
   "metadata": {},
   "outputs": [],
   "source": []
  }
 ],
 "metadata": {
  "kernelspec": {
   "display_name": "lc",
   "language": "python",
   "name": "python3"
  },
  "language_info": {
   "codemirror_mode": {
    "name": "ipython",
    "version": 3
   },
   "file_extension": ".py",
   "mimetype": "text/x-python",
   "name": "python",
   "nbconvert_exporter": "python",
   "pygments_lexer": "ipython3",
   "version": "3.10.13"
  }
 },
 "nbformat": 4,
 "nbformat_minor": 2
}
