{
 "cells": [
  {
   "cell_type": "code",
   "execution_count": 15,
   "metadata": {},
   "outputs": [],
   "source": [
    "import json\n",
    "import yaml\n",
    "import os.path as op\n",
    "import os\n",
    "from yaml.loader import SafeLoader"
   ]
  },
  {
   "cell_type": "code",
   "execution_count": 7,
   "metadata": {},
   "outputs": [],
   "source": [
    "def read_yaml(path_to_config_file):\n",
    "    \"\"\"\n",
    "    Input:\n",
    "    the path to the config file\n",
    "\n",
    "    Returns\n",
    "    a dictionary that contains all the config info\n",
    "\n",
    "    \"\"\"\n",
    "    with open(path_to_config_file, \"r\") as v:\n",
    "        config = yaml.load(v, Loader=SafeLoader)\n",
    "\n",
    "    \"\"\"     container = config[\"general\"][\"container\"]\n",
    "        host = config[\"general\"][\"host\"]\n",
    "        njobs = config[\"host_options\"][host][\"njobs\"]\n",
    "        if njobs == \"\" or njobs is None:\n",
    "            njobs = 2\n",
    "        host_str = f\"{host}\"\n",
    "        if host == \"local\":\n",
    "            launch_mode = config[\"host_options\"][\"local\"][\"launch_mode\"]\n",
    "            valid_options = [\"serial\", \"parallel\",\"dask_worker\"]\n",
    "            if launch_mode in valid_options:\n",
    "                host_str = (\n",
    "                    f\"{host_str}, and commands will be launched in {launch_mode} mode \"\n",
    "                    f\"every {njobs} jobs. \"\n",
    "                    f\"Serial is safe but it will take longer. \"\n",
    "                    f\"If you launch in parallel be aware that some of the \"\n",
    "                    f\"processes might be killed if the limit (usually memory) \"\n",
    "                    f\"of the machine is reached. \"\n",
    "                )\n",
    "            else:\n",
    "                die(\n",
    "                    f\"local:launch_mode {launch_mode} was passed, valid options are {valid_options}\"\n",
    "                )\n",
    "\n",
    "        logger.warning(\n",
    "            \"\\n\"\n",
    "            + \"#####################################################\\n\"\n",
    "            + f\"Successfully read the config file {path_to_config_file} \\n\"\n",
    "            + f'Basedir is: {config[\"general\"][\"basedir\"]} \\n'\n",
    "            + f'Container is: {container}_{config[\"container_specific\"][container][\"version\"]} \\n'\n",
    "            + f\"Host is: {host_str} \\n\"\n",
    "            + f'analysis folder is: {config[\"general\"][\"analysis_name\"]} \\n'\n",
    "            + f\"##################################################### \\n\"\n",
    "        )\n",
    "    \"\"\"\n",
    "    return config"
   ]
  },
  {
   "cell_type": "code",
   "execution_count": 8,
   "metadata": {},
   "outputs": [],
   "source": [
    "lc_config=read_yaml('/Users/tiger/soft/launchcontainers/example_configs/0.3.0/example_config.yaml')\n",
    "container=\"freesurferator\""
   ]
  },
  {
   "cell_type": "code",
   "execution_count": 31,
   "metadata": {},
   "outputs": [],
   "source": [
    "yaml_info=lc_config[\"container_specific\"][container]\n",
    "fs_json_keys=['pre_fs','control_points','annotfile', 'mniroizip']\n",
    "fs_json_val=['pre_fs/existingFS.zip','control_points/control.dat','mniroizip/mniroizip.zip','annotfile/annotfile.zip']\n",
    "\n",
    "fs_json_dict= {key: value for key, value in zip(fs_json_keys, fs_json_val)}\n",
    "json_template={'anat': \n",
    "                    {'location': {\n",
    "                        'path': '/flywheel/v0/input/anat/T1.nii.gz', \n",
    "                        'name': 'T1.nii.gz',\n",
    "                     },\n",
    "                    'base': 'file'}\n",
    "                    }"
   ]
  },
  {
   "cell_type": "code",
   "execution_count": 36,
   "metadata": {},
   "outputs": [],
   "source": [
    "for key in fs_json_dict.keys():\n",
    "    if key in yaml_info.keys() and yaml_info[key]:\n",
    "        json_template[key] = {\n",
    "                'location': {\n",
    "                    'path': op.join('/flywheel/v0/input', fs_json_dict[key]), \n",
    "                    'name': op.basename(fs_json_dict[key])\n",
    "                },\n",
    "                'base': 'file'\n",
    "            }\n",
    "    if 'anat' in json_template.keys() and 'pre_fs' in json_template.keys():\n",
    "        json_template.pop('anat')"
   ]
  },
  {
   "cell_type": "code",
   "execution_count": 37,
   "metadata": {},
   "outputs": [
    {
     "data": {
      "text/plain": [
       "{'pre_fs': {'location': {'path': '/flywheel/v0/input/pre_fs/existingFS.zip',\n",
       "   'name': 'existingFS.zip'},\n",
       "  'base': 'file'},\n",
       " 'control_points': {'location': {'path': '/flywheel/v0/input/control_points/control.dat',\n",
       "   'name': 'control.dat'},\n",
       "  'base': 'file'}}"
      ]
     },
     "execution_count": 37,
     "metadata": {},
     "output_type": "execute_result"
    }
   ],
   "source": [
    "json_template"
   ]
  },
  {
   "cell_type": "code",
   "execution_count": 17,
   "metadata": {},
   "outputs": [
    {
     "data": {
      "text/plain": [
       "{'pre_fs_True': 'pre_fs/existingFS.zip',\n",
       " 'pre_fs_False': 'anat/T1.nii.gz',\n",
       " 'control_points': 'control_points/control.dat',\n",
       " 'annotfile': 'mniroizip/mniroizip.zip',\n",
       " 'mniroizip': 'annotfile/annotfile.zip'}"
      ]
     },
     "execution_count": 17,
     "metadata": {},
     "output_type": "execute_result"
    }
   ],
   "source": [
    "fs_json_dict"
   ]
  },
  {
   "cell_type": "code",
   "execution_count": 20,
   "metadata": {},
   "outputs": [
    {
     "data": {
      "text/plain": [
       "dict_keys(['pre_fs_True', 'pre_fs_False', 'control_points', 'annotfile', 'mniroizip'])"
      ]
     },
     "execution_count": 20,
     "metadata": {},
     "output_type": "execute_result"
    }
   ],
   "source": [
    "fs_json_dict.keys()"
   ]
  },
  {
   "cell_type": "code",
   "execution_count": 22,
   "metadata": {},
   "outputs": [
    {
     "data": {
      "text/plain": [
       "dict_keys(['version', 'pre_fs', 'control_points', 'source_path_fszip', 'precontainer_anat', 'anat_analysis_name', 'precontainer_fmriprep', 'fmriprep_analysis_name', 'prefs_zipname', 'prefs_unzipname', 'annotfile', 'mniroizip'])"
      ]
     },
     "execution_count": 22,
     "metadata": {},
     "output_type": "execute_result"
    }
   ],
   "source": [
    "yaml_info.keys()"
   ]
  },
  {
   "cell_type": "code",
   "execution_count": 40,
   "metadata": {},
   "outputs": [],
   "source": [
    "preproc_json_keys=['ANAT','BVAL','BVEC', 'DIFF','FSMASK']\n",
    "preproc_json_val=['ANAT/T1.nii.gz','BVAL/dwiF.bval','BVEC/dwiF.bvec','DIFF/dwiF.nii.gz','FSMASK/brainmask.nii.gz']\n"
   ]
  },
  {
   "cell_type": "code",
   "execution_count": 59,
   "metadata": {},
   "outputs": [],
   "source": [
    "container=\"rtp2-pipeline\"\n",
    "pipeline_json_keys=['anatomical','bval','bvec', 'dwi','fs','tractparams']\n",
    "pipeline_json_val=['anatomical/T1.nii.gz','bval/dwi.bval','bvec/dwi.bvec','dwi/dwi.nii.gz','fs/fs.zip','tractparams/tractparams.csv']\n"
   ]
  },
  {
   "cell_type": "code",
   "execution_count": 65,
   "metadata": {},
   "outputs": [],
   "source": [
    "def get_config_dict(container,lc_config,rtp2_json_keys,rtp2_json_val):\n",
    "    config_info_dict = {}\n",
    "    yaml_info=lc_config[\"container_specific\"][container]\n",
    "    \n",
    "    rtp2_json_dict= {key: value for key, value in zip(rtp2_json_keys, rtp2_json_val)}\n",
    "\n",
    "    \n",
    "    if container == \"freesurferator\":\n",
    "        config_json_extra={'anat': \n",
    "                    {'location': {\n",
    "                        'path': '/flywheel/v0/input/anat/T1.nii.gz', \n",
    "                        'name': 'T1.nii.gz',\n",
    "                    },\n",
    "                    'base': 'file'}\n",
    "                    }\n",
    "        for key in rtp2_json_dict.keys():\n",
    "            if key in yaml_info.keys() and yaml_info[key]:\n",
    "                config_json_extra[key] = {\n",
    "                        'location': {\n",
    "                            'path': op.join('/flywheel/v0/input', rtp2_json_dict[key]), \n",
    "                            'name': op.basename(rtp2_json_dict[key])\n",
    "                        },\n",
    "                        'base': 'file'\n",
    "                    }\n",
    "            if 'anat' in config_json_extra.keys() and 'pre_fs' in config_json_extra.keys():\n",
    "                config_json_extra.pop('anat')\n",
    "\n",
    "    else:\n",
    "        config_json_extra={}\n",
    "        for key in rtp2_json_dict.keys():\n",
    "            config_json_extra[key] = {\n",
    "                    'location': {\n",
    "                        'path': op.join('/flywheel/v0/input', rtp2_json_dict[key]), \n",
    "                        'name': op.basename(rtp2_json_dict[key])\n",
    "                    },\n",
    "                    'base': 'file'\n",
    "                }\n",
    "        \n",
    "    config_info_dict['input']= config_json_extra   \n",
    "    return config_info_dict"
   ]
  },
  {
   "cell_type": "code",
   "execution_count": 66,
   "metadata": {},
   "outputs": [],
   "source": [
    "config_info_dict=get_config_dict(container,lc_config,pipeline_json_keys,pipeline_json_val)"
   ]
  },
  {
   "cell_type": "code",
   "execution_count": 67,
   "metadata": {},
   "outputs": [
    {
     "data": {
      "text/plain": [
       "{'input': {'anatomical': {'location': {'path': '/flywheel/v0/input/anatomical/T1.nii.gz',\n",
       "    'name': 'T1.nii.gz'},\n",
       "   'base': 'file'},\n",
       "  'bval': {'location': {'path': '/flywheel/v0/input/bval/dwi.bval',\n",
       "    'name': 'dwi.bval'},\n",
       "   'base': 'file'},\n",
       "  'bvec': {'location': {'path': '/flywheel/v0/input/bvec/dwi.bvec',\n",
       "    'name': 'dwi.bvec'},\n",
       "   'base': 'file'},\n",
       "  'dwi': {'location': {'path': '/flywheel/v0/input/dwi/dwi.nii.gz',\n",
       "    'name': 'dwi.nii.gz'},\n",
       "   'base': 'file'},\n",
       "  'fs': {'location': {'path': '/flywheel/v0/input/fs/fs.zip',\n",
       "    'name': 'fs.zip'},\n",
       "   'base': 'file'},\n",
       "  'tractparams': {'location': {'path': '/flywheel/v0/input/tractparams/tractparams.csv',\n",
       "    'name': 'tractparams.csv'},\n",
       "   'base': 'file'}}}"
      ]
     },
     "execution_count": 67,
     "metadata": {},
     "output_type": "execute_result"
    }
   ],
   "source": [
    "config_info_dict"
   ]
  },
  {
   "cell_type": "code",
   "execution_count": 71,
   "metadata": {},
   "outputs": [
    {
     "ename": "KeyError",
     "evalue": "'cc'",
     "output_type": "error",
     "traceback": [
      "\u001b[0;31m---------------------------------------------------------------------------\u001b[0m",
      "\u001b[0;31mKeyError\u001b[0m                                  Traceback (most recent call last)",
      "Cell \u001b[0;32mIn[71], line 1\u001b[0m\n\u001b[0;32m----> 1\u001b[0m \u001b[43mconfig_info_dict\u001b[49m\u001b[43m[\u001b[49m\u001b[38;5;124;43m'\u001b[39;49m\u001b[38;5;124;43mcc\u001b[39;49m\u001b[38;5;124;43m'\u001b[39;49m\u001b[43m]\u001b[49m\n",
      "\u001b[0;31mKeyError\u001b[0m: 'cc'"
     ]
    }
   ],
   "source": [
    "config_info_dict['cc']"
   ]
  },
  {
   "cell_type": "code",
   "execution_count": 74,
   "metadata": {},
   "outputs": [
    {
     "name": "stdout",
     "output_type": "stream",
     "text": [
      "in\n"
     ]
    }
   ],
   "source": [
    "if \"input\" in config_info_dict:\n",
    "    print(\"in\")"
   ]
  },
  {
   "cell_type": "code",
   "execution_count": 2,
   "metadata": {},
   "outputs": [],
   "source": [
    "import os.path as op\n",
    "mni_roi=\"/home/tlei/tlei/FG.nii.gz\"\n",
    "file_name = op.basename(mni_roi)\n",
    "file_ext = op.splitext(file_name)[1]"
   ]
  },
  {
   "cell_type": "code",
   "execution_count": 3,
   "metadata": {},
   "outputs": [
    {
     "data": {
      "text/plain": [
       "'FG.nii.gz'"
      ]
     },
     "execution_count": 3,
     "metadata": {},
     "output_type": "execute_result"
    }
   ],
   "source": [
    "file_name"
   ]
  },
  {
   "cell_type": "code",
   "execution_count": 4,
   "metadata": {},
   "outputs": [
    {
     "data": {
      "text/plain": [
       "'.gz'"
      ]
     },
     "execution_count": 4,
     "metadata": {},
     "output_type": "execute_result"
    }
   ],
   "source": [
    "file_ext"
   ]
  },
  {
   "cell_type": "code",
   "execution_count": 5,
   "metadata": {},
   "outputs": [
    {
     "data": {
      "text/plain": [
       "('FG.nii', '.gz')"
      ]
     },
     "execution_count": 5,
     "metadata": {},
     "output_type": "execute_result"
    }
   ],
   "source": [
    "op.splitext(file_name)"
   ]
  },
  {
   "cell_type": "code",
   "execution_count": 10,
   "metadata": {},
   "outputs": [],
   "source": [
    "lc_config_path='/media/tlei/data/soft/launchcontainers/example_configs/0.3.tlei/new_lc_config.yaml'\n",
    "lc_config=read_yaml(lc_config_path)"
   ]
  },
  {
   "cell_type": "code",
   "execution_count": 11,
   "metadata": {},
   "outputs": [
    {
     "data": {
      "text/plain": [
       "{'general': {'basedir': '/home/tlei/tlei/LMC_DWI_course',\n",
       "  'bidsdir_name': 'BIDS',\n",
       "  'containerdir': '/home/tlei/tlei/LMC_DWI_course/containers',\n",
       "  'container': 'freesurferator',\n",
       "  'analysis_name': 'test_on_msi01_for_preparedwi',\n",
       "  'host': 'local',\n",
       "  'force': True,\n",
       "  'print_command_only': False,\n",
       "  'log_dir': 'analysis_dir',\n",
       "  'log_filename': 'lc_log'},\n",
       " 'container_specific': {'anatrois': {'version': '4.6.1-7.3.2',\n",
       "   'pre_fs': True,\n",
       "   'source_fszip': 'anatrois',\n",
       "   'prefs_dir_name': 'anatrois_4.6.1-7.3.2',\n",
       "   'prefs_analysis_name': '6prefs_from_fmriprep',\n",
       "   'prefs_zipname': '^anatrois_S.*\\\\.zip$',\n",
       "   'annotfile': None,\n",
       "   'mniroizip': None},\n",
       "  'rtppreproc': {'version': '1.2.0-3.0.3',\n",
       "   'rpe': True,\n",
       "   'precontainer_anat': 'anatrois_4.6.1-7.3.2',\n",
       "   'anat_analysis_name': 'fMRIprep_brainmask'},\n",
       "  'rtp-pipeline': {'version': '4.5.2-3.0.3',\n",
       "   'precontainer_anat': 'anatrois_4.6.1-7.3.2',\n",
       "   'anat_analysis_name': 'fulltract_anatrerun',\n",
       "   'precontainer_preproc': 'rtppreproc_1.2.0-3.0.3',\n",
       "   'preproc_analysis_name': '6sub_wrongbvec'},\n",
       "  'freesurferator': {'version': '0.2.0-7.4.1rc19',\n",
       "   'pre_fs': True,\n",
       "   'source_fszip': 'anatrois',\n",
       "   'prefs_dir_name': 'anatrois_4.5.3-7.3.2',\n",
       "   'prefs_analysis_name': 'control_points_01',\n",
       "   'prefs_zipname': '^anatrois_S.*\\\\.zip$',\n",
       "   'control_points': False,\n",
       "   'prefs_unzipname': 'S.*$',\n",
       "   'annotfile': None,\n",
       "   'mniroizip': None},\n",
       "  'rtp2-preproc': {'version': '0.1.0_3.0.4rc31',\n",
       "   'precontainer_anat': 'anatrois_4.6.1-7.3.2',\n",
       "   'anat_analysis_name': 'fMRIprep_brainmask',\n",
       "   'rpe': True,\n",
       "   'qmap_nifti': None,\n",
       "   'qmap_zip': None},\n",
       "  'rtp2-pipeline': {'version': '0.1.0_3.0.4rc20',\n",
       "   'precontainer_anat': 'anatrois_4.6.1-7.3.2',\n",
       "   'anat_analysis_name': 'fulltract_anatrerun',\n",
       "   'precontainer_preproc': 'rtppreproc_1.2.0-3.0.3',\n",
       "   'preproc_analysis_name': '6sub_wrongbvec',\n",
       "   'tractparams': None,\n",
       "   'fsmask': None,\n",
       "   'qmap_zip': None}},\n",
       " 'host_options': {'BCBL': {'use_module': False,\n",
       "   'apptainer': 'apptainer/latest',\n",
       "   'maxwall': 10,\n",
       "   'manager': 'sge',\n",
       "   'name': 'anatrois',\n",
       "   'cores': 6,\n",
       "   'memory': '32G',\n",
       "   'processes': 1,\n",
       "   'interface': 'lo',\n",
       "   'death-timeout': 100,\n",
       "   'local-directory': None,\n",
       "   'queue': 'long.q',\n",
       "   'project': None,\n",
       "   'walltime': \"25:30:00'\",\n",
       "   'extra': [],\n",
       "   'env-extra': [],\n",
       "   'job-extra': [],\n",
       "   'resource-spec': None,\n",
       "   'bind_options': ['/bcbl', '/tmp', '/scratch']},\n",
       "  'DIPC': {'memory': '32G',\n",
       "   'queue': 'regular',\n",
       "   'cores': 24,\n",
       "   'walltime': '22:00:00',\n",
       "   'use_module': False,\n",
       "   'apptainer': 'Singularity/3.5.3-GCC-8.3.0',\n",
       "   'manager': 'slurm',\n",
       "   'system': 'scratch',\n",
       "   'name': 'anatrois',\n",
       "   'tmpdir': '/scratch/llecca/tmp',\n",
       "   'bind_options': ['/scratch']},\n",
       "  'local': {'use_module': False,\n",
       "   'apptainer': 'apptainer/latest',\n",
       "   'bind_options': ['/bcbl', '/tmp', '/scratch', '/export'],\n",
       "   'manager': 'local',\n",
       "   'launch_mode': 'serial',\n",
       "   'njobs': 5,\n",
       "   'memory_limit': '32GiB',\n",
       "   'threads_per_worker': 6}}}"
      ]
     },
     "execution_count": 11,
     "metadata": {},
     "output_type": "execute_result"
    }
   ],
   "source": [
    "lc_config"
   ]
  },
  {
   "cell_type": "code",
   "execution_count": 13,
   "metadata": {},
   "outputs": [],
   "source": [
    "    # read parameters from lc_config\n",
    "    basedir = lc_config['general']['basedir']\n",
    "    container = lc_config['general']['container']\n",
    "    force = lc_config[\"general\"][\"force\"]\n",
    "    analysis_name= lc_config['general']['analysis_name']\n",
    "    run_lc = False\n",
    "    force= force or run_lc    \n",
    "    version = lc_config[\"container_specific\"][container][\"version\"]    \n",
    "    bidsdir_name = lc_config['general']['bidsdir_name']  \n",
    "    container_folder = op.join(basedir, bidsdir_name,'derivatives',f'{container}_{version}')\n",
    "    if not op.isdir(container_folder):\n",
    "        os.makedirs(container_folder)"
   ]
  },
  {
   "cell_type": "code",
   "execution_count": 16,
   "metadata": {},
   "outputs": [],
   "source": [
    "    analysis_dir = op.join(\n",
    "        container_folder,\n",
    "        f\"analysis-{analysis_name}\",\n",
    "                )\n",
    "    if not op.isdir(analysis_dir):\n",
    "        os.makedirs(analysis_dir)"
   ]
  },
  {
   "cell_type": "code",
   "execution_count": 17,
   "metadata": {},
   "outputs": [],
   "source": [
    "  container_configs_under_analysis_folder = op.join(analysis_dir,os.path.basename('/media/tlei/data/soft/launchcontainers/example_configs/container_specific_example_configs/freesurferator/0.2.0_7.4.1rc19/example_config.json'))"
   ]
  },
  {
   "cell_type": "code",
   "execution_count": 18,
   "metadata": {},
   "outputs": [
    {
     "data": {
      "text/plain": [
       "'/home/tlei/tlei/LMC_DWI_course/BIDS/derivatives/freesurferator_0.2.0-7.4.1rc19/analysis-test_on_msi01_for_preparedwi/example_config.json'"
      ]
     },
     "execution_count": 18,
     "metadata": {},
     "output_type": "execute_result"
    }
   ],
   "source": [
    "container_configs_under_analysis_folder"
   ]
  },
  {
   "cell_type": "code",
   "execution_count": 33,
   "metadata": {},
   "outputs": [],
   "source": [
    "    container_specific_configs={}\n",
    "    container_specific_configs['config']=container_configs_under_analysis_folder\n",
    "    "
   ]
  },
  {
   "cell_type": "code",
   "execution_count": 39,
   "metadata": {},
   "outputs": [
    {
     "data": {
      "text/plain": [
       "{'config': '/home/tlei/tlei/LMC_DWI_course/BIDS/derivatives/freesurferator_0.2.0-7.4.1rc19/analysis-test_on_msi01_for_preparedwi/example_config.json',\n",
       " 'freesurferator': {'ANAT': 'ANAT/T1.nii.gz',\n",
       "  'BVAL': 'BVAL/dwiF.bval',\n",
       "  'BVEC': 'BVEC/dwiF.bvec',\n",
       "  'DIFF': 'DIFF/dwiF.nii.gz',\n",
       "  'FSMASK': 'FSMASK/brain.nii.gz'}}"
      ]
     },
     "execution_count": 39,
     "metadata": {},
     "output_type": "execute_result"
    }
   ],
   "source": [
    "container_specific_configs"
   ]
  },
  {
   "cell_type": "code",
   "execution_count": 41,
   "metadata": {},
   "outputs": [
    {
     "data": {
      "text/plain": [
       "dict_keys(['ANAT', 'BVAL', 'BVEC', 'DIFF', 'FSMASK'])"
      ]
     },
     "execution_count": 41,
     "metadata": {},
     "output_type": "execute_result"
    }
   ],
   "source": [
    "container_specific_configs[container]['anat']['location']['name']"
   ]
  },
  {
   "cell_type": "code",
   "execution_count": 36,
   "metadata": {},
   "outputs": [],
   "source": [
    "        preproc_json_keys=['ANAT','BVAL','BVEC', 'DIFF','FSMASK']\n",
    "        preproc_json_val=['ANAT/T1.nii.gz','BVAL/dwiF.bval','BVEC/dwiF.bvec','DIFF/dwiF.nii.gz','FSMASK/brain.nii.gz']\n",
    "        \n",
    "        container_specific_configs[container]= {key: value for key, value in zip(preproc_json_keys, preproc_json_val)}\n",
    "        "
   ]
  },
  {
   "cell_type": "code",
   "execution_count": 38,
   "metadata": {},
   "outputs": [
    {
     "data": {
      "text/plain": [
       "{'ANAT': 'ANAT/T1.nii.gz',\n",
       " 'BVAL': 'BVAL/dwiF.bval',\n",
       " 'BVEC': 'BVEC/dwiF.bvec',\n",
       " 'DIFF': 'DIFF/dwiF.nii.gz',\n",
       " 'FSMASK': 'FSMASK/brain.nii.gz'}"
      ]
     },
     "execution_count": 38,
     "metadata": {},
     "output_type": "execute_result"
    }
   ],
   "source": [
    "container_specific_configs[container]"
   ]
  },
  {
   "cell_type": "code",
   "execution_count": 31,
   "metadata": {},
   "outputs": [],
   "source": [
    "    def process_optional_input(container,file_path, analysis_dir, option=None):\n",
    "        if os.path.isfile(file_path):\n",
    "            logger.info(\"\\n\"\n",
    "                +f\" You have choossen to pass  {file_path} to {container}, it will be first copy to {analysis_dir}\")\n",
    "        else:\n",
    "            logger.error(\"\\n\"\n",
    "                        f\"{file_path} does not exist\")        \n",
    "        \n",
    "        file_name = os.path.basename(file_path)\n",
    "        file_ext = os.path.splitext(file_name)[1]\n",
    "        \n",
    "        if container in ['anatrois','freesurferator']:\n",
    "            if file_ext in ['.nii', '.gz','.zip']:\n",
    "                do.copy_file(file_path, os.path.join(analysis_dir, file_name), force)          \n",
    "            else:\n",
    "                raise ValueError(\"Unsupported file type.\")\n",
    "        if container in ['rtp2-preproc']:\n",
    "            if file_ext in ['.nii', '.gz']:\n",
    "                do.copy_file(file_path, os.path.join(analysis_dir, file_name), force)                          \n",
    "            else:\n",
    "                raise ValueError(\"Unsupported file type.\")\n",
    "                    \n",
    "        if container in ['rtp2-pipeline']:\n",
    "            if option == \"tractparams\":\n",
    "                if file_ext in ['.csv']:    \n",
    "                    do.copy_file(file_path, os.path.join(analysis_dir, file_name), force)\n",
    "                else:\n",
    "                    raise ValueError(\"Unsupported file type.\")                    \n",
    "            if option == \"fsmask\":\n",
    "                if file_ext in ['.nii', '.gz']:\n",
    "                    do.copy_file(file_path, os.path.join(analysis_dir, file_name), force)            \n",
    "                else:\n",
    "                    raise ValueError(\"Unsupported file type.\")                \n",
    "            if option == \"qmap_zip\":\n",
    "                if file_ext == '.zip':\n",
    "                    do.copy_file(file_path, os.path.join(analysis_dir, file_name), force)          \n",
    "                else:\n",
    "                    raise ValueError(\"Unsupported file type.\")\n",
    "        return file_name\n",
    "    \n",
    "    # copy annotfile or mnizip file to analysis folder\n",
    "    if container in ['anatrois']:\n",
    "        pre_fs= lc_config[\"container_specific\"][container][\"pre_fs\"]\n",
    "        annotfile = lc_config[\"container_specific\"][container][\"annotfile\"]\n",
    "        mniroizip = lc_config[\"container_specific\"][container][\"mniroizip\"]\n",
    "        if pre_fs:\n",
    "            file_name=\"existingFS.zip\"\n",
    "            container_specific_configs[container]['pre_fs']=f\"pre_fs/{file_name}\"         \n",
    "        if annotfile:\n",
    "            file_name=process_optional_input(container,annotfile,analysis_dir)\n",
    "            container_specific_configs[container]['annotfile']=f\"annotfile/{file_name}\"\n",
    "        if mniroizip:\n",
    "            file_name=process_optional_input(container,mniroizip,analysis_dir)\n",
    "            container_specific_configs[container]['mniroizip']=f\"mniroizip/{file_name}\"\n",
    "        # copy annotfile or mnizip file to analysis folder\n",
    "    if container in ['freesurferator']:\n",
    "        pre_fs= lc_config[\"container_specific\"][container][\"pre_fs\"]\n",
    "        control_points= lc_config[\"container_specific\"][container][\"control_points\"]\n",
    "        annotfile = lc_config[\"container_specific\"][container][\"annotfile\"]\n",
    "        mniroizip = lc_config[\"container_specific\"][container][\"mniroizip\"]\n",
    "        if pre_fs:\n",
    "            file_name=\"existingFS.zip\"\n",
    "            container_specific_configs[container]['pre_fs']=f\"pre_fs/{file_name}\"\n",
    "        if control_points:\n",
    "            file_name=\"control.dat\"\n",
    "            container_specific_configs[container]['control_points']=f\"control_points/{file_name}\"            \n",
    "        if annotfile:\n",
    "            file_name=process_optional_input(container,annotfile,analysis_dir)\n",
    "            container_specific_configs[container]['annotfile']=f\"annotfile/{file_name}\"\n",
    "        if mniroizip:\n",
    "            file_name=process_optional_input(container,mniroizip,analysis_dir)\n",
    "            container_specific_configs[container]['mniroizip']=f\"mniroizip/{file_name}\"\n",
    "    # copy qmap.nii of qmap.nii.gz to analysis folder\n",
    "    if container in ['rtppreproc']:\n",
    "        preproc_json_keys=['ANAT','BVAL','BVEC', 'DIFF','FSMASK']\n",
    "        preproc_json_val=['ANAT/T1.nii.gz','BVAL/dwiF.bval','BVEC/dwiF.bvec','DIFF/dwiF.nii.gz','FSMASK/brain.nii.gz']\n",
    "        container_specific_configs[container]= {key: value for key, value in zip(preproc_json_keys, preproc_json_val)}\n",
    "        rpe=lc_config[\"container_specific\"][container][\"rpe\"]\n",
    "        if rpe:\n",
    "            container_specific_configs[container]['RBVC']= 'RBVC/dwiR.bvec'\n",
    "            container_specific_configs[container]['RBVL']= 'RBVL/dwiR.bval'\n",
    "            container_specific_configs[container]['RDIF']= 'RDIF/dwiR.nii.gz'            \n",
    "    if container in ['rtp2-preproc']:\n",
    "        preproc_json_keys=['ANAT','BVAL','BVEC', 'DIFF','FSMASK']\n",
    "        preproc_json_val=['ANAT/T1.nii.gz','BVAL/dwiF.bval','BVEC/dwiF.bvec','DIFF/dwiF.nii.gz','FSMASK/brain.nii.gz']\n",
    "        container_specific_configs[container]= {key: value for key, value in zip(preproc_json_keys, preproc_json_val)}\n",
    "        \n",
    "        rpe=lc_config[\"container_specific\"][container][\"rpe\"]\n",
    "        qmap=lc_config[\"container_specific\"][container][\"qmap_nifti\"]\n",
    "        if rpe:\n",
    "            container_specific_configs[container]['RBVC']= 'RBVC/dwiR.bvec'\n",
    "            container_specific_configs[container]['RBVL']= 'RBVL/dwiR.bval'\n",
    "            container_specific_configs[container]['RDIF']= 'RDIF/dwiR.nii.gz'            \n",
    "        if qmap:\n",
    "            file_name=process_optional_input(container,qmap,analysis_dir)\n",
    "            container_specific_configs[container]['qmap']=f\"qmap/{file_name}\"\n",
    "        \n",
    "    if container in ['rtp-pipeline']:\n",
    "        pipeline_json_keys=['anatomical','bval','bvec', 'dwi','fs']\n",
    "        pipeline_json_val=['anatomical/T1.nii.gz','bval/dwi.bval','bvec/dwi.bvec','dwi/dwi.nii.gz','fs/fs.zip']\n",
    "        container_specific_configs[container]= {key: value for key, value in zip(pipeline_json_keys, pipeline_json_val)}\n",
    "        \n",
    "        tractparams=lc_config[\"container_specific\"][container][\"tractparams\"]\n",
    "        if tractparams:\n",
    "            file_name=process_optional_input(container,tractparams,analysis_dir,\"tractparams\")    \n",
    "            container_specific_configs[container]['tractparams']=f\"tractparams/{file_name}\"\n",
    "    if container in ['rtp2-pipeline']:\n",
    "        pipeline_json_keys=['anatomical','bval','bvec', 'dwi','fs']\n",
    "        pipeline_json_val=['anatomical/T1.nii.gz','bval/dwi.bval','bvec/dwi.bvec','dwi/dwi.nii.gz','fs/fs.zip']\n",
    "        container_specific_configs[container]= {key: value for key, value in zip(pipeline_json_keys, pipeline_json_val)}        \n",
    "        tractparams=lc_config[\"container_specific\"][container][\"tractparams\"]\n",
    "        fsmask=lc_config[\"container_specific\"][container][\"fsmask\"]\n",
    "        qmap_zip=lc_config[\"container_specific\"][container][\"qmap_zip\"]\n",
    "        if tractparams:\n",
    "            file_name=process_optional_input(container,tractparams,analysis_dir,\"tractparams\")\n",
    "            container_specific_configs[container]['tractparams']=f\"tractparams/{file_name}\"\n",
    "        if fsmask:\n",
    "            file_name=process_optional_input(container,fsmask,analysis_dir,\"fsmask\")\n",
    "            container_specific_configs[container]['fsmask']=f\"fsmask/{file_name}\"\n",
    "        if qmap_zip:\n",
    "            file_name=process_optional_input(container,qmap_zip,analysis_dir,\"qmap_zip\")           \n",
    "            container_specific_configs[container]['qmap_zip']=f\"qmap_zip/{file_name}\"       "
   ]
  },
  {
   "cell_type": "code",
   "execution_count": 23,
   "metadata": {},
   "outputs": [
    {
     "data": {
      "text/plain": [
       "'freesurferator'"
      ]
     },
     "execution_count": 23,
     "metadata": {},
     "output_type": "execute_result"
    }
   ],
   "source": [
    "container"
   ]
  },
  {
   "cell_type": "code",
   "execution_count": 42,
   "metadata": {},
   "outputs": [],
   "source": [
    "dict= {\n",
    "    \"inputs\": {\n",
    "        \"anat\": {\n",
    "            \"location\": {\n",
    "                \"path\": \"/flywheel/v0/input/anat/T1.nii.gz\",\n",
    "                \"name\": \"T1.nii.gz\"\n",
    "            },\n",
    "            \"base\": \"file\"\n",
    "        },\n",
    "        \"pre_fs\": {\n",
    "            \"location\": {\n",
    "                \"path\": \"/flywheel/v0/input/pre_fs/existingFS.zip\",\n",
    "                \"name\": \"existingFS.zip\"\n",
    "            },\n",
    "            \"base\": \"file\"\n",
    "        },\n",
    "        \"control_points\": {\n",
    "            \"location\": {\n",
    "                \"path\": \"/flywheel/v0/input/control_points/control.dat\",\n",
    "                \"name\": \"control.dat\"\n",
    "            },\n",
    "            \"base\": \"file\"\n",
    "        },\n",
    "        \"mniroizip\": {\n",
    "            \"location\": {\n",
    "                \"path\": \"/flywheel/v0/input/mniroizip/FG.nii.gz\",\n",
    "                \"name\": \"FG.nii.gz\"\n",
    "            },\n",
    "            \"base\": \"file\"\n",
    "        }\n",
    "}\n",
    "}"
   ]
  },
  {
   "cell_type": "code",
   "execution_count": 44,
   "metadata": {},
   "outputs": [
    {
     "data": {
      "text/plain": [
       "'T1.nii.gz'"
      ]
     },
     "execution_count": 44,
     "metadata": {},
     "output_type": "execute_result"
    }
   ],
   "source": [
    "dict['inputs']['anat']['location']['name']"
   ]
  },
  {
   "cell_type": "code",
   "execution_count": 50,
   "metadata": {},
   "outputs": [],
   "source": [
    "\n",
    "from bids import BIDSLayout\n",
    "layout=BIDSLayout(os.path.join('/home/tlei/tlei/multishell_dwi/nifti'))\n"
   ]
  },
  {
   "cell_type": "code",
   "execution_count": 57,
   "metadata": {},
   "outputs": [],
   "source": [
    "dwi_dir=layout.get(subject= \"SM003\", session=\"001\", extension='nii.gz',suffix= 'dwi', direction=\"AP\", return_type='filename')"
   ]
  },
  {
   "cell_type": "code",
   "execution_count": 58,
   "metadata": {},
   "outputs": [
    {
     "data": {
      "text/plain": [
       "['/home/tlei/tlei/multishell_dwi/nifti/sub-SM003/ses-001/dwi/sub-SM003_ses-001_acq-b1000_dir-AP_dwi.nii.gz',\n",
       " '/home/tlei/tlei/multishell_dwi/nifti/sub-SM003/ses-001/dwi/sub-SM003_ses-001_acq-b2500_dir-AP_dwi.nii.gz']"
      ]
     },
     "execution_count": 58,
     "metadata": {},
     "output_type": "execute_result"
    }
   ],
   "source": [
    "dwi_dir"
   ]
  },
  {
   "cell_type": "code",
   "execution_count": null,
   "metadata": {},
   "outputs": [],
   "source": [
    "if len(dwi_dir) > 1:\n",
    "    dwi_acq = [f for f in dwi_dir if 'acq-' in f]\n",
    "    if len(dwi_acq) == 0:\n",
    "        print(f\"No files with different acq- to concatenate.\\n\")\n",
    "    elif len(dwi_acq) == 1:\n",
    "        print(f\"Found only {dwi_acq[0]} to concatenate. There must be at least two files with different acq.\\n\")\n",
    "    elif len(dwi_acq) > 1:\n",
    "        if not os.path.isfile(srcFileDwi_nii):\n",
    "            print(f\"Concatenating with mrcat of mrtrix3 these files: {dwi_acq} in: {srcFileDwi_nii} \\n\")\n",
    "            dwi_acq.sort()\n",
    "            sp.run(['mrcat',*dwi_acq,srcFileDwi_nii])"
   ]
  },
  {
   "cell_type": "code",
   "execution_count": 59,
   "metadata": {},
   "outputs": [
    {
     "ename": "SyntaxError",
     "evalue": "can't use starred expression here (162654131.py, line 1)",
     "output_type": "error",
     "traceback": [
      "\u001b[0;36m  Cell \u001b[0;32mIn[59], line 1\u001b[0;36m\u001b[0m\n\u001b[0;31m    *dwi_acq\u001b[0m\n\u001b[0m    ^\u001b[0m\n\u001b[0;31mSyntaxError\u001b[0m\u001b[0;31m:\u001b[0m can't use starred expression here\n"
     ]
    }
   ],
   "source": [
    "*dwi_acq"
   ]
  },
  {
   "cell_type": "code",
   "execution_count": null,
   "metadata": {},
   "outputs": [],
   "source": []
  }
 ],
 "metadata": {
  "kernelspec": {
   "display_name": "lc",
   "language": "python",
   "name": "python3"
  },
  "language_info": {
   "codemirror_mode": {
    "name": "ipython",
    "version": 3
   },
   "file_extension": ".py",
   "mimetype": "text/x-python",
   "name": "python",
   "nbconvert_exporter": "python",
   "pygments_lexer": "ipython3",
   "version": "3.10.14"
  }
 },
 "nbformat": 4,
 "nbformat_minor": 2
}
